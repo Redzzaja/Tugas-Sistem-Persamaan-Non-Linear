{
  "nbformat": 4,
  "nbformat_minor": 0,
  "metadata": {
    "colab": {
      "provenance": [],
      "authorship_tag": "ABX9TyNI9Kfg88rE6/rd9KnScUR+",
      "include_colab_link": true
    },
    "kernelspec": {
      "name": "python3",
      "display_name": "Python 3"
    },
    "language_info": {
      "name": "python"
    }
  },
  "cells": [
    {
      "cell_type": "markdown",
      "metadata": {
        "id": "view-in-github",
        "colab_type": "text"
      },
      "source": [
        "<a href=\"https://colab.research.google.com/github/Redzzaja/Tugas-Sistem-Persamaan-Non-Linear/blob/main/MetodeNumerik.ipynb\" target=\"_parent\"><img src=\"https://colab.research.google.com/assets/colab-badge.svg\" alt=\"Open In Colab\"/></a>"
      ]
    },
    {
      "cell_type": "code",
      "source": [
        "import numpy as np"
      ],
      "metadata": {
        "id": "vfBB5T5Ic2w3"
      },
      "execution_count": 15,
      "outputs": []
    },
    {
      "cell_type": "code",
      "source": [
        "# === ITERASI TITIK TETAP - METODE JACOBI (NIMx = 3) ===\n",
        "\n",
        "def g1B(x, y):\n",
        "    val = 10 - x * y\n",
        "    if val < 0:\n",
        "        raise ValueError(\"Nilai dalam akar negatif (divergen).\")\n",
        "    return np.sqrt(val)\n",
        "\n",
        "def g2B(x, y):\n",
        "    denom = 1 + 3 * x * y\n",
        "    if denom == 0:\n",
        "        raise ValueError(\"Penyebut nol (divergen).\")\n",
        "    return 57 / denom\n",
        "\n",
        "# Inisialisasi awal\n",
        "x_old, y_old = 1.5, 3.5\n",
        "toleransi = 1e-6\n",
        "maks_iterasi = 100\n",
        "\n",
        "print(\"=== ITERASI TITIK TETAP (JACOBI) NIMx = 3 ===\")\n",
        "\n",
        "for i in range(1, maks_iterasi + 1):\n",
        "    try:\n",
        "        # Jacobi: gunakan nilai lama untuk keduanya\n",
        "        x_new = g1B(x_old, y_old)\n",
        "        y_new = g2B(x_old, y_old)\n",
        "\n",
        "        error = max(abs(x_new - x_old), abs(y_new - y_old))\n",
        "        print(f\"Iterasi {i}: x = {x_new:.7f}, y = {y_new:.7f}, error = {error:.7f}\")\n",
        "\n",
        "        if error < toleransi:\n",
        "            print(f\"\\nKonvergen setelah {i} iterasi.\")\n",
        "            break\n",
        "\n",
        "        x_old, y_old = x_new, y_new\n",
        "\n",
        "    except ValueError as err:\n",
        "        print(f\"Iterasi {i}: Terjadi kesalahan numerik ({err}). Perhitungan dihentikan.\")\n",
        "        break\n"
      ],
      "metadata": {
        "colab": {
          "base_uri": "https://localhost:8080/"
        },
        "id": "dZox5oU9f6u2",
        "outputId": "7a0edcf1-3c23-4a91-c76b-695702955c7d"
      },
      "execution_count": 16,
      "outputs": [
        {
          "output_type": "stream",
          "name": "stdout",
          "text": [
            "=== ITERASI TITIK TETAP (JACOBI) NIMx = 3 ===\n",
            "Iterasi 1: x = 2.1794495, y = 3.4029851, error = 0.6794495\n",
            "Iterasi 2: x = 1.6072853, y = 2.4516232, error = 0.9513618\n",
            "Iterasi 3: x = 2.4616137, y = 4.4457014, error = 1.9940782\n",
            "Iterasi 4: Terjadi kesalahan numerik (Nilai dalam akar negatif (divergen).). Perhitungan dihentikan.\n"
          ]
        }
      ]
    },
    {
      "cell_type": "code",
      "source": [
        "# === ITERASI TITIK TETAP - METODE GAUSS-SEIDEL (NIMx = 3) ===\n",
        "\n",
        "def g1B(x, y):\n",
        "    val = 10 - x * y\n",
        "    if val < 0:\n",
        "        raise ValueError(\"Nilai dalam akar negatif (divergen).\")\n",
        "    return np.sqrt(val)\n",
        "\n",
        "def g2B(x, y):\n",
        "    denom = 1 + 3 * x * y\n",
        "    if denom == 0:\n",
        "        raise ValueError(\"Penyebut nol (divergen).\")\n",
        "    return 57 / denom\n",
        "\n",
        "x, y = 1.5, 3.5\n",
        "toleransi = 1e-6\n",
        "maks_iterasi = 100\n",
        "\n",
        "print(\"=== ITERASI TITIK TETAP (GAUSS-SEIDEL) NIMx = 3 ===\")\n",
        "\n",
        "for i in range(1, maks_iterasi + 1):\n",
        "    try:\n",
        "        # Seidel: update langsung setelah tiap langkah\n",
        "        x_baru = g1B(x, y)\n",
        "        y_baru = g2B(x_baru, y)\n",
        "\n",
        "        error = max(abs(x_baru - x), abs(y_baru - y))\n",
        "        print(f\"Iterasi {i}: x = {x_baru:.7f}, y = {y_baru:.7f}, error = {error:.7f}\")\n",
        "\n",
        "        if error < toleransi:\n",
        "            print(f\"\\nKonvergen setelah {i} iterasi.\")\n",
        "            break\n",
        "\n",
        "        x, y = x_baru, y_baru\n",
        "\n",
        "    except ValueError as err:\n",
        "        print(f\"Iterasi {i}: Terjadi kesalahan numerik ({err}). Perhitungan dihentikan.\")\n",
        "        break\n"
      ],
      "metadata": {
        "colab": {
          "base_uri": "https://localhost:8080/"
        },
        "id": "2FkbMIU9gA01",
        "outputId": "d035b0ba-6192-4c07-dc7a-fbb259358afc"
      },
      "execution_count": 17,
      "outputs": [
        {
          "output_type": "stream",
          "name": "stdout",
          "text": [
            "=== ITERASI TITIK TETAP (GAUSS-SEIDEL) NIMx = 3 ===\n",
            "Iterasi 1: x = 2.1794495, y = 2.3865130, error = 1.1134870\n",
            "Iterasi 2: x = 2.1905971, y = 3.4165155, error = 1.0300025\n",
            "Iterasi 3: x = 1.5861246, y = 3.3029964, error = 0.6044725\n",
            "Iterasi 4: x = 2.1819799, y = 2.5197585, error = 0.7832379\n",
            "Iterasi 5: x = 2.1217770, y = 3.3452477, error = 0.8254892\n",
            "Iterasi 6: x = 1.7035640, y = 3.1497750, error = 0.4182130\n",
            "Iterasi 7: x = 2.1527091, y = 2.6708340, error = 0.4789409\n",
            "Iterasi 8: x = 2.0616671, y = 3.2535896, error = 0.5827556\n",
            "Iterasi 9: x = 1.8144369, y = 3.0464504, error = 0.2472301\n",
            "Iterasi 10: x = 2.1148068, y = 2.8040194, error = 0.3003699\n",
            "Iterasi 11: x = 2.0174342, y = 3.1718167, error = 0.3677973\n",
            "Iterasi 12: x = 1.8976482, y = 2.9910306, error = 0.1807860\n",
            "Iterasi 13: x = 2.0794413, y = 2.8994327, error = 0.1817932\n",
            "Iterasi 14: x = 1.9926866, y = 3.1091505, error = 0.2097178\n",
            "Iterasi 15: x = 1.9504967, y = 2.9698074, error = 0.1393431\n",
            "Iterasi 16: x = 2.0511949, y = 2.9572044, error = 0.1006981\n",
            "Iterasi 17: x = 1.9834812, y = 3.0650636, error = 0.1078592\n",
            "Iterasi 18: x = 1.9800263, y = 2.9677114, error = 0.0973522\n",
            "Iterasi 19: x = 2.0307273, y = 2.9874468, error = 0.0507010\n",
            "Iterasi 20: x = 1.9832575, y = 3.0360121, error = 0.0485654\n",
            "Iterasi 21: x = 1.9946945, y = 2.9737449, error = 0.0622672\n",
            "Iterasi 22: x = 2.0169996, y = 3.0009276, error = 0.0271827\n",
            "Iterasi 23: x = 1.9867386, y = 3.0180805, error = 0.0302610\n",
            "Iterasi 24: x = 2.0009655, y = 2.9816043, error = 0.0364762\n",
            "Iterasi 25: x = 2.0084603, y = 3.0054888, error = 0.0238845\n",
            "Iterasi 26: x = 1.9908780, y = 3.0078069, error = 0.0175823\n",
            "Iterasi 27: x = 2.0029537, y = 2.9884404, error = 0.0193665\n",
            "Iterasi 28: x = 2.0035699, y = 3.0059093, error = 0.0174689\n",
            "Iterasi 29: x = 1.9943547, y = 3.0024418, error = 0.0092152\n",
            "Iterasi 30: x = 2.0030143, y = 2.9934143, error = 0.0090275\n",
            "Iterasi 31: x = 2.0010368, y = 3.0047765, error = 0.0113622\n",
            "Iterasi 32: x = 1.9968304, y = 2.9999863, error = 0.0047903\n",
            "Iterasi 33: x = 2.0023827, y = 2.9966309, error = 0.0055523\n",
            "Iterasi 34: x = 1.9998995, y = 3.0033381, error = 0.0067071\n",
            "Iterasi 35: x = 1.9984058, y = 2.9991059, error = 0.0042321\n",
            "Iterasi 36: x = 2.0016417, y = 2.9985155, error = 0.0032359\n",
            "Iterasi 37: x = 1.9995115, y = 3.0021016, error = 0.0035861\n",
            "Iterasi 38: x = 1.9993157, y = 2.9989825, error = 0.0031192\n",
            "Iterasi 39: x = 2.0010216, y = 2.9995129, error = 0.0017059\n",
            "Iterasi 40: x = 1.9994774, y = 3.0012044, error = 0.0016916\n",
            "Iterasi 41: x = 1.9997898, y = 2.9991580, error = 0.0020465\n",
            "Iterasi 42: x = 2.0005785, y = 2.9999759, error = 0.0008179\n",
            "Iterasi 43: x = 1.9995781, y = 3.0006225, error = 0.0010004\n",
            "Iterasi 44: x = 2.0000052, y = 2.9994030, error = 0.0012195\n",
            "Iterasi 45: x = 2.0002946, y = 3.0001471, error = 0.0007441\n",
            "Iterasi 46: x = 1.9997055, y = 3.0002792, error = 0.0005891\n",
            "Iterasi 47: x = 2.0000813, y = 2.9996200, error = 0.0006592\n",
            "Iterasi 48: x = 2.0001290, y = 3.0001767, error = 0.0005567\n",
            "Iterasi 49: x = 1.9998149, y = 3.0000957, error = 0.0003142\n",
            "Iterasi 50: x = 2.0000910, y = 2.9997800, error = 0.0003157\n",
            "Iterasi 51: x = 2.0000417, y = 3.0001491, error = 0.0003690\n",
            "Iterasi 52: x = 1.9998941, y = 3.0000092, error = 0.0001476\n",
            "Iterasi 53: x = 2.0000748, y = 2.9998850, error = 0.0001806\n",
            "Iterasi 54: x = 2.0000014, y = 3.0001069, error = 0.0002219\n",
            "Iterasi 55: x = 1.9999455, y = 2.9999762, error = 0.0001308\n",
            "Iterasi 56: x = 2.0000528, y = 2.9999475, error = 0.0001073\n",
            "Iterasi 57: x = 1.9999866, y = 3.0000687, error = 0.0001212\n",
            "Iterasi 58: x = 1.9999757, y = 2.9999695, error = 0.0000992\n",
            "Iterasi 59: x = 2.0000335, y = 2.9999813, error = 0.0000578\n",
            "Iterasi 60: x = 1.9999842, y = 3.0000401, error = 0.0000588\n",
            "Iterasi 61: x = 1.9999918, y = 2.9999737, error = 0.0000665\n",
            "Iterasi 62: x = 2.0000193, y = 2.9999975, error = 0.0000276\n",
            "Iterasi 63: x = 1.9999868, y = 3.0000212, error = 0.0000326\n",
            "Iterasi 64: x = 1.9999993, y = 2.9999809, error = 0.0000403\n",
            "Iterasi 65: x = 2.0000101, y = 3.0000038, error = 0.0000229\n",
            "Iterasi 66: x = 1.9999905, y = 3.0000098, error = 0.0000195\n",
            "Iterasi 67: x = 2.0000022, y = 2.9999876, error = 0.0000222\n",
            "Iterasi 68: x = 2.0000046, y = 3.0000053, error = 0.0000177\n",
            "Iterasi 69: x = 1.9999939, y = 3.0000036, error = 0.0000106\n",
            "Iterasi 70: x = 2.0000027, y = 2.9999927, error = 0.0000109\n",
            "Iterasi 71: x = 2.0000016, y = 3.0000046, error = 0.0000120\n",
            "Iterasi 72: x = 1.9999965, y = 3.0000006, error = 0.0000051\n",
            "Iterasi 73: x = 2.0000023, y = 2.9999961, error = 0.0000059\n",
            "Iterasi 74: x = 2.0000002, y = 3.0000034, error = 0.0000073\n",
            "Iterasi 75: x = 1.9999981, y = 2.9999994, error = 0.0000040\n",
            "Iterasi 76: x = 2.0000017, y = 2.9999982, error = 0.0000036\n",
            "Iterasi 77: x = 1.9999997, y = 3.0000022, error = 0.0000041\n",
            "Iterasi 78: x = 1.9999991, y = 2.9999991, error = 0.0000031\n",
            "Iterasi 79: x = 2.0000011, y = 2.9999993, error = 0.0000020\n",
            "Iterasi 80: x = 1.9999995, y = 3.0000013, error = 0.0000020\n",
            "Iterasi 81: x = 1.9999997, y = 2.9999992, error = 0.0000021\n",
            "Iterasi 82: x = 2.0000006, y = 2.9999999, error = 0.0000010\n",
            "\n",
            "Konvergen setelah 82 iterasi.\n"
          ]
        }
      ]
    },
    {
      "cell_type": "code",
      "source": [
        "# === METODE NEWTON-RAPHSON UNTUK SISTEM 2 VARIABEL (NIMx = 3) ===\n",
        "\n",
        "# Definisi fungsi\n",
        "def f1(x, y):\n",
        "    return x**2 + x*y - 10\n",
        "\n",
        "def f2(x, y):\n",
        "    return y + 3*x*y**2 - 57\n",
        "\n",
        "# Turunan parsial (Jacobian)\n",
        "def df1dx(x, y): return 2*x + y\n",
        "def df1dy(x, y): return x\n",
        "def df2dx(x, y): return 3*y**2\n",
        "def df2dy(x, y): return 1 + 6*x*y\n",
        "\n",
        "# Inisialisasi\n",
        "x, y = 1.5, 3.5\n",
        "toleransi = 1e-6\n",
        "maks_iterasi = 100\n",
        "\n",
        "print(\"=== METODE NEWTON-RAPHSON (NIMx = 3) ===\")\n",
        "\n",
        "for i in range(1, maks_iterasi + 1):\n",
        "    F = np.array([-f1(x, y), -f2(x, y)])\n",
        "    J = np.array([\n",
        "        [df1dx(x, y), df1dy(x, y)],\n",
        "        [df2dx(x, y), df2dy(x, y)]\n",
        "    ])\n",
        "\n",
        "    try:\n",
        "        delta = np.linalg.solve(J, F)\n",
        "    except np.linalg.LinAlgError:\n",
        "        print(f\"Iterasi {i}: Matriks Jacobian singular. Perhitungan dihentikan.\")\n",
        "        break\n",
        "\n",
        "    x_baru, y_baru = x + delta[0], y + delta[1]\n",
        "    error = np.sqrt(delta[0]**2 + delta[1]**2)\n",
        "\n",
        "    print(f\"Iterasi {i}: x = {x_baru:.7f}, y = {y_baru:.7f}, error = {error:.7f}\")\n",
        "\n",
        "    if error < toleransi:\n",
        "        print(f\"\\nKonvergen setelah {i} iterasi.\")\n",
        "        break\n",
        "\n",
        "    x, y = x_baru, y_baru\n"
      ],
      "metadata": {
        "colab": {
          "base_uri": "https://localhost:8080/"
        },
        "id": "HV2sj8bRgC6m",
        "outputId": "a92d3fc0-9ac4-4dac-da10-efe9f0267e0e"
      },
      "execution_count": 18,
      "outputs": [
        {
          "output_type": "stream",
          "name": "stdout",
          "text": [
            "=== METODE NEWTON-RAPHSON (NIMx = 3) ===\n",
            "Iterasi 1: x = 2.0360288, y = 2.8438751, error = 0.8472466\n",
            "Iterasi 2: x = 1.9987006, y = 3.0022886, error = 0.1627520\n",
            "Iterasi 3: x = 2.0000000, y = 2.9999994, error = 0.0026322\n",
            "Iterasi 4: x = 2.0000000, y = 3.0000000, error = 0.0000006\n",
            "\n",
            "Konvergen setelah 4 iterasi.\n"
          ]
        }
      ]
    },
    {
      "cell_type": "code",
      "source": [
        "# === METODE SECANT (NIMx = 3) ===\n",
        "\n",
        "# Definisi fungsi\n",
        "def f1(x, y):\n",
        "    return x**2 + x*y - 10\n",
        "\n",
        "def f2(x, y):\n",
        "    return y + 3*x*y**2 - 57\n",
        "\n",
        "# Inisialisasi\n",
        "x, y = 1.5, 3.5\n",
        "toleransi = 1e-6\n",
        "maks_iterasi = 100\n",
        "h = 1e-6  # step kecil aproksimasi\n",
        "\n",
        "print(\"=== METODE SECANT (NIMx = 3) ===\")\n",
        "\n",
        "for i in range(1, maks_iterasi + 1):\n",
        "    # Aproksimasi turunan parsial (Jacobian)\n",
        "    j11 = (f1(x + h, y) - f1(x, y)) / h\n",
        "    j12 = (f1(x, y + h) - f1(x, y)) / h\n",
        "    j21 = (f2(x + h, y) - f2(x, y)) / h\n",
        "    j22 = (f2(x, y + h) - f2(x, y)) / h\n",
        "\n",
        "    J = np.array([[j11, j12], [j21, j22]])\n",
        "    F = np.array([-f1(x, y), -f2(x, y)])\n",
        "\n",
        "    try:\n",
        "        delta = np.linalg.solve(J, F)\n",
        "    except np.linalg.LinAlgError:\n",
        "        print(f\"Iterasi {i}: Matriks Jacobian singular. Perhitungan dihentikan.\")\n",
        "        break\n",
        "\n",
        "    x_baru, y_baru = x + delta[0], y + delta[1]\n",
        "    error = np.sqrt(delta[0]**2 + delta[1]**2)\n",
        "\n",
        "    print(f\"Iterasi {i}: x = {x_baru:.7f}, y = {y_baru:.7f}, error = {error:.7f}\")\n",
        "\n",
        "    if error < toleransi:\n",
        "        print(f\"\\nKonvergen setelah {i} iterasi.\")\n",
        "        break\n",
        "\n",
        "    x, y = x_baru, y_baru\n"
      ],
      "metadata": {
        "colab": {
          "base_uri": "https://localhost:8080/"
        },
        "id": "4nR4tGV1gTFT",
        "outputId": "949dfe46-55e8-4ac5-bf23-738d1bf33e47"
      },
      "execution_count": 19,
      "outputs": [
        {
          "output_type": "stream",
          "name": "stdout",
          "text": [
            "=== METODE SECANT (NIMx = 3) ===\n",
            "Iterasi 1: x = 2.0360287, y = 2.8438753, error = 0.8472463\n",
            "Iterasi 2: x = 1.9987006, y = 3.0022885, error = 0.1627517\n",
            "Iterasi 3: x = 2.0000000, y = 2.9999994, error = 0.0026322\n",
            "Iterasi 4: x = 2.0000000, y = 3.0000000, error = 0.0000006\n",
            "\n",
            "Konvergen setelah 4 iterasi.\n"
          ]
        }
      ]
    }
  ]
}